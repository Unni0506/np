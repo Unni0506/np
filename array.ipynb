{
 "cells": [
  {
   "cell_type": "code",
   "execution_count": 1,
   "id": "52405378-7182-42bf-ba19-b185661f0168",
   "metadata": {},
   "outputs": [],
   "source": [
    "import numpy as np"
   ]
  },
  {
   "cell_type": "code",
   "execution_count": 51,
   "id": "4686be9b-abad-42a2-8ab6-84b163ba679e",
   "metadata": {},
   "outputs": [],
   "source": [
    "j=[4,6,2,8,9,7]"
   ]
  },
  {
   "cell_type": "code",
   "execution_count": 53,
   "id": "f017bd79-24df-4c11-86cf-c532fe7c8416",
   "metadata": {},
   "outputs": [
    {
     "data": {
      "text/plain": [
       "[4, 6, 2, 8, 9, 7]"
      ]
     },
     "execution_count": 53,
     "metadata": {},
     "output_type": "execute_result"
    }
   ],
   "source": [
    "j"
   ]
  },
  {
   "cell_type": "code",
   "execution_count": 55,
   "id": "504aca1b-3de4-48df-ae19-770c09fba129",
   "metadata": {},
   "outputs": [
    {
     "data": {
      "text/plain": [
       "array([4, 6, 2, 8, 9, 7])"
      ]
     },
     "execution_count": 55,
     "metadata": {},
     "output_type": "execute_result"
    }
   ],
   "source": [
    "np.array(j)"
   ]
  },
  {
   "cell_type": "code",
   "execution_count": 57,
   "id": "06186a63-7850-481b-9f90-9736425fd1c0",
   "metadata": {},
   "outputs": [
    {
     "data": {
      "text/plain": [
       "(4, 6, 2, 8, 9, 7)"
      ]
     },
     "execution_count": 57,
     "metadata": {},
     "output_type": "execute_result"
    }
   ],
   "source": [
    "tuple(j)"
   ]
  },
  {
   "cell_type": "code",
   "execution_count": 59,
   "id": "fa4138b7-7744-47a2-9a24-29c30525fe38",
   "metadata": {},
   "outputs": [
    {
     "data": {
      "text/plain": [
       "[4, 6, 2, 8, 9, 7]"
      ]
     },
     "execution_count": 59,
     "metadata": {},
     "output_type": "execute_result"
    }
   ],
   "source": [
    "j=[4,6,2,8,9,7]\n",
    "j\n"
   ]
  },
  {
   "cell_type": "code",
   "execution_count": 61,
   "id": "3e7a8871-fff1-422c-9c19-2b1985388dfe",
   "metadata": {},
   "outputs": [
    {
     "data": {
      "text/plain": [
       "array([4, 6, 2, 8, 9, 7])"
      ]
     },
     "execution_count": 61,
     "metadata": {},
     "output_type": "execute_result"
    }
   ],
   "source": [
    "d=np.array(j)\n",
    "d\n"
   ]
  },
  {
   "cell_type": "code",
   "execution_count": 63,
   "id": "e67d60a6-d980-4baf-9bd5-ad0052c2e21a",
   "metadata": {},
   "outputs": [
    {
     "data": {
      "text/plain": [
       "numpy.ndarray"
      ]
     },
     "execution_count": 63,
     "metadata": {},
     "output_type": "execute_result"
    }
   ],
   "source": [
    "type(d)"
   ]
  },
  {
   "cell_type": "code",
   "execution_count": 65,
   "id": "93cdceed-fce3-426b-96b6-c97a073fa3c3",
   "metadata": {},
   "outputs": [
    {
     "data": {
      "text/plain": [
       "(4, 6, 2, 8, 9, 7)"
      ]
     },
     "execution_count": 65,
     "metadata": {},
     "output_type": "execute_result"
    }
   ],
   "source": [
    "tuple(j)"
   ]
  },
  {
   "cell_type": "code",
   "execution_count": 67,
   "id": "2c59480b-719b-49d9-b8e7-f0f0451c4ab3",
   "metadata": {},
   "outputs": [
    {
     "data": {
      "text/plain": [
       "array([4, 6, 2, 8, 9, 7])"
      ]
     },
     "execution_count": 67,
     "metadata": {},
     "output_type": "execute_result"
    }
   ],
   "source": [
    "d"
   ]
  },
  {
   "cell_type": "code",
   "execution_count": 69,
   "id": "f9e1e2b9-7d0d-4a89-8596-886ce3a370c6",
   "metadata": {},
   "outputs": [
    {
     "data": {
      "text/plain": [
       "(6,)"
      ]
     },
     "execution_count": 69,
     "metadata": {},
     "output_type": "execute_result"
    }
   ],
   "source": [
    "d.shape"
   ]
  },
  {
   "cell_type": "code",
   "execution_count": 71,
   "id": "25a12695-9295-410e-aec2-13ba550c0521",
   "metadata": {},
   "outputs": [
    {
     "data": {
      "text/plain": [
       "1"
      ]
     },
     "execution_count": 71,
     "metadata": {},
     "output_type": "execute_result"
    }
   ],
   "source": [
    "d.ndim"
   ]
  },
  {
   "cell_type": "code",
   "execution_count": 73,
   "id": "a88597a2-904d-42e8-846f-6279b802fbaf",
   "metadata": {},
   "outputs": [
    {
     "data": {
      "text/plain": [
       "6"
      ]
     },
     "execution_count": 73,
     "metadata": {},
     "output_type": "execute_result"
    }
   ],
   "source": [
    "d.size"
   ]
  },
  {
   "cell_type": "code",
   "execution_count": 75,
   "id": "5e97b8a8-65f1-4d14-8e79-01d149f61f31",
   "metadata": {},
   "outputs": [
    {
     "ename": "ValueError",
     "evalue": "cannot reshape array of size 6 into shape (5,2)",
     "output_type": "error",
     "traceback": [
      "\u001b[1;31m---------------------------------------------------------------------------\u001b[0m",
      "\u001b[1;31mValueError\u001b[0m                                Traceback (most recent call last)",
      "Cell \u001b[1;32mIn[75], line 1\u001b[0m\n\u001b[1;32m----> 1\u001b[0m d\u001b[38;5;241m.\u001b[39mreshape(\u001b[38;5;241m5\u001b[39m,\u001b[38;5;241m2\u001b[39m)\n",
      "\u001b[1;31mValueError\u001b[0m: cannot reshape array of size 6 into shape (5,2)"
     ]
    }
   ],
   "source": [
    "d.reshape(5,2)"
   ]
  },
  {
   "cell_type": "code",
   "execution_count": 77,
   "id": "5a267bec-931d-4804-a51f-1d1a97300d41",
   "metadata": {},
   "outputs": [
    {
     "data": {
      "text/plain": [
       "array([[4, 6, 2],\n",
       "       [8, 9, 7]])"
      ]
     },
     "execution_count": 77,
     "metadata": {},
     "output_type": "execute_result"
    }
   ],
   "source": [
    "h=d.reshape(2,3)\n",
    "h\n"
   ]
  },
  {
   "cell_type": "code",
   "execution_count": 79,
   "id": "0e5facf6-dd49-42d2-b26b-46d9279abcdd",
   "metadata": {},
   "outputs": [
    {
     "data": {
      "text/plain": [
       "(2, 3)"
      ]
     },
     "execution_count": 79,
     "metadata": {},
     "output_type": "execute_result"
    }
   ],
   "source": [
    "h.shape"
   ]
  },
  {
   "cell_type": "code",
   "execution_count": 81,
   "id": "9958a6f3-5d71-4ac1-817e-a6a26e10f900",
   "metadata": {},
   "outputs": [
    {
     "data": {
      "text/plain": [
       "2"
      ]
     },
     "execution_count": 81,
     "metadata": {},
     "output_type": "execute_result"
    }
   ],
   "source": [
    "h.ndim"
   ]
  },
  {
   "cell_type": "code",
   "execution_count": 31,
   "id": "dd66cede-6805-4f83-abd5-49d7bdab5cfb",
   "metadata": {},
   "outputs": [
    {
     "data": {
      "text/plain": [
       "([4, 6, 2, 8, 9], [4, 6, 3, 8, 9], [4, 6, 7, 8, 9], [4, 6, 1, 8, 9])"
      ]
     },
     "execution_count": 31,
     "metadata": {},
     "output_type": "execute_result"
    }
   ],
   "source": [
    "s=([4, 6, 2, 8, 9],\n",
    "[4, 6, 3, 8, 9],\n",
    "[4, 6, 7, 8, 9],\n",
    "[4, 6, 1, 8, 9])\n",
    "s\n",
    "\n",
    "\n",
    "\n",
    "\n"
   ]
  },
  {
   "cell_type": "code",
   "execution_count": 33,
   "id": "c17fe392-eb47-443d-8204-529c0fd4aa3e",
   "metadata": {},
   "outputs": [
    {
     "data": {
      "text/plain": [
       "array([[4, 6, 2, 8, 9],\n",
       "       [4, 6, 3, 8, 9],\n",
       "       [4, 6, 7, 8, 9],\n",
       "       [4, 6, 1, 8, 9]])"
      ]
     },
     "execution_count": 33,
     "metadata": {},
     "output_type": "execute_result"
    }
   ],
   "source": [
    "arr1=np.array(s)\n",
    "arr1\n"
   ]
  },
  {
   "cell_type": "code",
   "execution_count": 41,
   "id": "1a8118b2-5570-48c6-bae8-6de6e5552b67",
   "metadata": {},
   "outputs": [
    {
     "data": {
      "text/plain": [
       "20"
      ]
     },
     "execution_count": 41,
     "metadata": {},
     "output_type": "execute_result"
    }
   ],
   "source": [
    "arr1.size"
   ]
  },
  {
   "cell_type": "code",
   "execution_count": 43,
   "id": "a2790874-fbd9-4011-8eab-a32556da6bc5",
   "metadata": {},
   "outputs": [
    {
     "data": {
      "text/plain": [
       "(4, 5)"
      ]
     },
     "execution_count": 43,
     "metadata": {},
     "output_type": "execute_result"
    }
   ],
   "source": [
    "arr1.shape"
   ]
  },
  {
   "cell_type": "code",
   "execution_count": 45,
   "id": "8e6f21f9-8fc6-45e5-b34d-c7cfb1c4893d",
   "metadata": {},
   "outputs": [
    {
     "data": {
      "text/plain": [
       "2"
      ]
     },
     "execution_count": 45,
     "metadata": {},
     "output_type": "execute_result"
    }
   ],
   "source": [
    "arr1.ndim"
   ]
  },
  {
   "cell_type": "code",
   "execution_count": 83,
   "id": "971197ae-6bce-4261-97fa-fc94c1f811c3",
   "metadata": {},
   "outputs": [
    {
     "data": {
      "text/plain": [
       "array([[4, 6, 2, 8, 9],\n",
       "       [4, 6, 3, 8, 9],\n",
       "       [4, 6, 7, 8, 9],\n",
       "       [4, 6, 1, 8, 9]])"
      ]
     },
     "execution_count": 83,
     "metadata": {},
     "output_type": "execute_result"
    }
   ],
   "source": [
    "arr1"
   ]
  },
  {
   "cell_type": "code",
   "execution_count": 85,
   "id": "a92ec17b-1b2b-4c72-845c-61e129bdf735",
   "metadata": {},
   "outputs": [
    {
     "data": {
      "text/plain": [
       "array([4, 6, 2, 8, 9, 4, 6, 3, 8, 9, 4, 6, 7, 8, 9, 4, 6, 1, 8, 9])"
      ]
     },
     "execution_count": 85,
     "metadata": {},
     "output_type": "execute_result"
    }
   ],
   "source": [
    "y=arr1.reshape(20,)\n",
    "y\n"
   ]
  },
  {
   "cell_type": "code",
   "execution_count": 87,
   "id": "be991e82-1b9a-42db-9b45-3d74980caced",
   "metadata": {},
   "outputs": [
    {
     "data": {
      "text/plain": [
       "1"
      ]
     },
     "execution_count": 87,
     "metadata": {},
     "output_type": "execute_result"
    }
   ],
   "source": [
    "y.ndim"
   ]
  },
  {
   "cell_type": "code",
   "execution_count": 89,
   "id": "d13ae1af-58f6-4714-9547-5f78b86006d6",
   "metadata": {},
   "outputs": [
    {
     "data": {
      "text/plain": [
       "(20,)"
      ]
     },
     "execution_count": 89,
     "metadata": {},
     "output_type": "execute_result"
    }
   ],
   "source": [
    "y.shape"
   ]
  },
  {
   "cell_type": "code",
   "execution_count": 91,
   "id": "b613ffd7-e7f5-4618-8786-7d20d0bc5034",
   "metadata": {},
   "outputs": [
    {
     "data": {
      "text/plain": [
       "array([[4, 6, 2, 8, 9, 4, 6, 3, 8, 9, 4, 6, 7, 8, 9, 4, 6, 1, 8, 9]])"
      ]
     },
     "execution_count": 91,
     "metadata": {},
     "output_type": "execute_result"
    }
   ],
   "source": [
    "z=arr1.reshape(1,20)\n",
    "z\n"
   ]
  },
  {
   "cell_type": "code",
   "execution_count": 93,
   "id": "db9baefb-90dc-4f5f-a99c-94956c5554ef",
   "metadata": {},
   "outputs": [
    {
     "data": {
      "text/plain": [
       "[5, 87, 23, 46, 62, 84, 80, 45, 77, 33, 80]"
      ]
     },
     "execution_count": 93,
     "metadata": {},
     "output_type": "execute_result"
    }
   ],
   "source": [
    "j=[5,87,23,46,62,84,80,45,77,33,80]\n",
    "j"
   ]
  },
  {
   "cell_type": "code",
   "execution_count": 101,
   "id": "79beb169-d244-4bab-a841-26702a5b4363",
   "metadata": {},
   "outputs": [
    {
     "data": {
      "text/plain": [
       "range(0, 11)"
      ]
     },
     "execution_count": 101,
     "metadata": {},
     "output_type": "execute_result"
    }
   ],
   "source": [
    "range(len(j))"
   ]
  },
  {
   "cell_type": "code",
   "execution_count": 97,
   "id": "cbfb6214-ae1c-4a1f-bf23-b2d142791fad",
   "metadata": {},
   "outputs": [],
   "source": [
    "y=[]\n",
    "x=[]\n",
    "for i in range (len(j)):\n",
    "    if i%2==0:\n",
    "       x.append(j[i])\n",
    "    else:\n",
    "       y.append(j[i])"
   ]
  },
  {
   "cell_type": "code",
   "execution_count": 99,
   "id": "179d0f49-cd47-475c-bf0d-06bcc69ef2a1",
   "metadata": {},
   "outputs": [
    {
     "name": "stdout",
     "output_type": "stream",
     "text": [
      "[5, 87, 23, 46, 62, 84, 80, 45, 77, 33, 80]\n",
      "[5, 87, 23, 46, 62, 84, 80, 45, 77, 33, 80]\n",
      "[5, 87, 23, 46, 62, 84, 80, 45, 77, 33, 80]\n",
      "[5, 87, 23, 46, 62, 84, 80, 45, 77, 33, 80]\n",
      "[5, 87, 23, 46, 62, 84, 80, 45, 77, 33, 80]\n",
      "[5, 87, 23, 46, 62, 84, 80, 45, 77, 33, 80]\n",
      "[5, 87, 23, 46, 62, 84, 80, 45, 77, 33, 80]\n",
      "[5, 87, 23, 46, 62, 84, 80, 45, 77, 33, 80]\n",
      "[5, 87, 23, 46, 62, 84, 80, 45, 77, 33, 80]\n",
      "[5, 87, 23, 46, 62, 84, 80, 45, 77, 33, 80]\n",
      "[5, 87, 23, 46, 62, 84, 80, 45, 77, 33, 80]\n"
     ]
    }
   ],
   "source": [
    "for i in j:\n",
    "    print(j)\n"
   ]
  }
 ],
 "metadata": {
  "kernelspec": {
   "display_name": "Python [conda env:base] *",
   "language": "python",
   "name": "conda-base-py"
  },
  "language_info": {
   "codemirror_mode": {
    "name": "ipython",
    "version": 3
   },
   "file_extension": ".py",
   "mimetype": "text/x-python",
   "name": "python",
   "nbconvert_exporter": "python",
   "pygments_lexer": "ipython3",
   "version": "3.11.5"
  }
 },
 "nbformat": 4,
 "nbformat_minor": 5
}
